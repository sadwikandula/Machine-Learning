{
  "nbformat": 4,
  "nbformat_minor": 0,
  "metadata": {
    "colab": {
      "provenance": []
    },
    "kernelspec": {
      "name": "python3",
      "display_name": "Python 3"
    },
    "language_info": {
      "name": "python"
    }
  },
  "cells": [
    {
      "cell_type": "markdown",
      "source": [
        "**COMPUTER VISION - ASSIGNMENT 6**\n",
        "\n",
        "Sadwi Kandula "
      ],
      "metadata": {
        "id": "NpD7qohAQgmQ"
      }
    },
    {
      "cell_type": "code",
      "execution_count": 79,
      "metadata": {
        "id": "zgiHm3qbK8hv"
      },
      "outputs": [],
      "source": [
        "import numpy as np\n",
        "import matplotlib.pyplot as plt\n",
        "\n",
        "# Define the Conv2D layer\n",
        "class conv2d_CV:\n",
        "    def __init__(self, in_channels, out_channels, kernel_size, stride=1, padding=0):\n",
        "        self.in_channels = in_channels\n",
        "        self.out_channels = out_channels\n",
        "        self.kernel_size = kernel_size\n",
        "        self.stride = stride\n",
        "        self.padding = padding\n",
        "        \n",
        "        # Initialize the filter bank weights randomly\n",
        "        self.weights = np.random.randn(out_channels, in_channels, kernel_size, kernel_size)\n",
        "        \n",
        "    def forward(self, X):\n",
        "        batch_size, in_height, in_width, in_channels = X.shape\n",
        "        out_height = int(((in_height + 2*self.padding - self.kernel_size) / self.stride) + 1)\n",
        "        out_width = int(((in_width + 2*self.padding - self.kernel_size) / self.stride) + 1)\n",
        "        out = np.zeros((batch_size, out_height, out_width, self.out_channels))\n",
        "        padded_X = np.pad(X, ((0, 0), (self.padding, self.padding), (self.padding, self.padding), (0, 0)), mode='constant')\n",
        "        \n",
        "        for h in range(out_height):\n",
        "            for w in range(out_width):\n",
        "                h_start = h * self.stride\n",
        "                w_start = w * self.stride\n",
        "                h_end = h_start + self.kernel_size\n",
        "                w_end = w_start + self.kernel_size\n",
        "                window = padded_X[:, h_start:h_end, w_start:w_end, :]\n",
        "                for c in range(self.out_channels):\n",
        "                    out[:, h, w, c] = np.sum(window * self.weights[c, :, :, :], axis=(1, 2, 3))\n",
        "                    \n",
        "        return out\n",
        "    \n",
        "    def backward(self, X, grad_output, learning_rate):\n",
        "        batch_size, in_height, in_width, in_channels = X.shape\n",
        "        _, out_height, out_width, out_channels = grad_output.shape\n",
        "        padded_X = np.pad(X, ((0, 0), (self.padding, self.padding), (self.padding, self.padding), (0, 0)), mode='constant')\n",
        "        padded_grad_input = np.zeros_like(padded_X)\n",
        "        grad_weights = np.zeros_like(self.weights)\n",
        "        \n",
        "        for h in range(out_height):\n",
        "            for w in range(out_width):\n",
        "                h_start = h * self.stride\n",
        "                w_start = w * self.stride\n",
        "                h_end = h_start + self.kernel_size\n",
        "                w_end = w_start + self.kernel_size\n",
        "                window = padded_X[:, h_start:h_end, w_start:w_end, :]\n",
        "                for c in range(out_channels):\n",
        "                    grad_weights[c, :, :, :] += np.sum(\n",
        "                        window * grad_output[:, h, w, c][:, None, None, None], axis=0)\n",
        "                for b in range(batch_size):\n",
        "                    padded_grad_input[b, h_start:h_end, w_start:w_end, :] += np.sum((self.weights[:, :, :, :] * grad_output[b, h, w, :][:, None, None, None]), axis=0)\n",
        "\n",
        "                # Remove padding\n",
        "                grad_input = padded_grad_input[:, self.padding:-self.padding, self.padding:-self.padding, :]\n",
        "        \n",
        "                # Update weights\n",
        "                self.weights -= learning_rate * grad_weights / batch_size\n",
        "\n",
        "                return grad_input\n",
        "\n"
      ]
    },
    {
      "cell_type": "code",
      "source": [
        "class max_pool_2d_CV:\n",
        "    def __init__(self, pool_size, stride=1):\n",
        "        self.pool_size = pool_size\n",
        "        self.stride = stride\n",
        "        \n",
        "    def forward(self, X):\n",
        "        batch_size, in_height, in_width, in_channels = X.shape\n",
        "        out_height = int(((in_height - self.pool_size) / self.stride) + 1)\n",
        "        out_width = int(((in_width - self.pool_size) / self.stride) + 1)\n",
        "        out = np.zeros((batch_size, out_height, out_width, in_channels))\n",
        "        \n",
        "        for h in range(out_height):\n",
        "            for w in range(out_width):\n",
        "                h_start = h * self.stride\n",
        "                w_start = w * self.stride\n",
        "                h_end = h_start + self.pool_size\n",
        "                w_end = w_start + self.pool_size\n",
        "                window = X[:, h_start:h_end, w_start:w_end, :]\n",
        "                out[:, h, w, :] = np.max(window, axis=(1, 2))\n",
        "                \n",
        "        return out\n",
        "    \n",
        "    def backward(self, X, grad_output):\n",
        "        batch_size, in_height, in_width, in_channels = X.shape\n",
        "        _, out_height, out_width, _ = grad_output.shape\n",
        "        grad_input = np.zeros_like(X)\n",
        "        \n",
        "        for h in range(out_height):\n",
        "            for w in range(out_width):\n",
        "                h_start = h * self.stride\n",
        "                w_start = w * self.stride\n",
        "                h_end = h_start + self.pool_size\n",
        "                w_end = w_start + self.pool_size\n",
        "                window = X[:, h_start:h_end, w_start:w_end, :]\n",
        "                grad_pool = grad_output[:, h, w, :, None, None]\n",
        "                grad_mask = (window == np.max(window, axis=(1, 2))[:, None, None, :])\n",
        "                grad_input[:, h_start:h_end, w_start:w_end, :] += grad_pool * grad_mask\n",
        "                \n",
        "        return grad_input\n"
      ],
      "metadata": {
        "id": "2xxNe04kLY5L"
      },
      "execution_count": 80,
      "outputs": []
    },
    {
      "cell_type": "code",
      "source": [
        "class Layer:\n",
        "    def __init__(self):\n",
        "        self.trainable = True\n",
        "\n",
        "    def forward(self, inputs):\n",
        "        raise NotImplementedError\n",
        "\n",
        "    def backward(self, grad):\n",
        "        raise NotImplementedError\n",
        "\n",
        "    def update_params(self, learning_rate):\n",
        "        pass\n",
        "\n",
        "    def set_trainable(self, trainable):\n",
        "        self.trainable = trainable\n"
      ],
      "metadata": {
        "id": "hxeVUKXkMAHS"
      },
      "execution_count": 81,
      "outputs": []
    },
    {
      "cell_type": "code",
      "source": [
        "class Flatten(Layer):\n",
        "    def __init__(self):\n",
        "        super().__init__()\n",
        "\n",
        "    def forward(self, inputs):\n",
        "        self.batch_size, *self.input_shape = inputs.shape\n",
        "        return inputs.reshape(self.batch_size, -1)\n",
        "\n",
        "    def backward(self, grad):\n",
        "        return grad.reshape(self.batch_size, *self.input_shape)\n"
      ],
      "metadata": {
        "id": "Xoo0GfTBL2HH"
      },
      "execution_count": 82,
      "outputs": []
    },
    {
      "cell_type": "code",
      "source": [
        "class Dense(Layer):\n",
        "    def __init__(self, input_size, output_size):\n",
        "        super().__init__()\n",
        "        self.weights = np.random.randn(input_size, output_size) * np.sqrt(2.0 / (input_size + output_size))\n",
        "        self.biases = np.zeros(output_size)\n",
        "\n",
        "    def forward(self, inputs):\n",
        "        self.inputs = inputs\n",
        "        return np.dot(inputs, self.weights) + self.biases\n",
        "\n",
        "    def backward(self, grad):\n",
        "        grad_inputs = np.dot(grad, self.weights.T)\n",
        "        grad_weights = np.dot(self.inputs.T, grad)\n",
        "        grad_biases = np.sum(grad, axis=0)\n",
        "        self.weights -= self.learning_rate * grad_weights\n",
        "        self.biases -= self.learning_rate * grad_biases\n",
        "        return grad_inputs\n",
        "\n"
      ],
      "metadata": {
        "id": "DJbryfusMJVX"
      },
      "execution_count": 83,
      "outputs": []
    },
    {
      "cell_type": "code",
      "source": [
        "class ReLU(Layer):\n",
        "    def __init__(self):\n",
        "        super().__init__()\n",
        "\n",
        "    def forward(self, inputs):\n",
        "        self.inputs = inputs\n",
        "        return np.maximum(0, inputs)\n",
        "\n",
        "    def backward(self, grad):\n",
        "        grad[self.inputs <= 0] = 0\n",
        "        return grad\n"
      ],
      "metadata": {
        "id": "zwGflE3jMeGe"
      },
      "execution_count": 84,
      "outputs": []
    },
    {
      "cell_type": "code",
      "source": [
        "class Softmax(Layer):\n",
        "    def __init__(self):\n",
        "        super().__init__()\n",
        "\n",
        "    def forward(self, inputs):\n",
        "        exp_inputs = np.exp(inputs - np.max(inputs, axis=-1, keepdims=True))\n",
        "        return exp_inputs / np.sum(exp_inputs, axis=-1, keepdims=True)\n",
        "\n",
        "    def backward(self, grad):\n",
        "        s = self.output.reshape((-1, 1))\n",
        "        return s * (grad - np.sum(grad * s, axis=1, keepdims=True))\n"
      ],
      "metadata": {
        "id": "4ynsQU62Mqcy"
      },
      "execution_count": null,
      "outputs": []
    },
    {
      "cell_type": "code",
      "source": [
        "from tensorflow.keras.datasets import mnist\n",
        "\n",
        "# Load MNIST dataset\n",
        "(X_train, y_train), (X_test, y_test) = mnist.load_data()\n",
        "\n",
        "# Preprocess the data\n",
        "X_train = X_train.astype('float32') / 255.0\n",
        "X_test = X_test.astype('float32') / 255.0\n",
        "y_train = y_train.astype('int32')\n",
        "y_test = y_test.astype('int32')\n",
        "\n",
        "# Reshape the data to add a channel dimension\n",
        "X_train = X_train.reshape((-1, 28, 28, 1))\n",
        "X_test = X_test.reshape((-1, 28, 28, 1))\n",
        "\n",
        "# Define the model architecture\n",
        "model = [\n",
        "    conv2d_CV(in_channels=1, out_channels=32, kernel_size=3, padding=1),\n",
        "    max_pool_2d_CV(pool_size=2, stride=2),\n",
        "    conv2d_CV(in_channels=32, out_channels=64, kernel_size=3, padding=1),\n",
        "    max_pool_2d_CV(pool_size=2, stride=2),\n",
        "    Flatten(),\n",
        "    Dense(7*7*64, 128),\n",
        "    ReLU(),\n",
        "    Dense(128, 10),\n",
        "    Softmax()\n",
        "]"
      ],
      "metadata": {
        "id": "CRwVWjjDLchX"
      },
      "execution_count": null,
      "outputs": []
    },
    {
      "cell_type": "code",
      "source": [
        "class Model:\n",
        "    def __init__(self, layers):\n",
        "        self.layers = layers\n",
        "\n",
        "    def forward(self, inputs):\n",
        "        for layer in self.layers:\n",
        "            inputs = layer.forward(inputs)\n",
        "        return inputs\n",
        "\n",
        "    def backward(self, grad):\n",
        "        for layer in reversed(self.layers):\n",
        "            grad = layer.backward(grad)\n",
        "\n",
        "    def update_params(self, learning_rate):\n",
        "        for layer in self.layers:\n",
        "            if isinstance(layer, TrainableLayer):\n",
        "                layer.update_params(learning_rate)\n",
        "\n",
        "    def get_params(self):\n",
        "        params = []\n",
        "        for layer in self.layers:\n",
        "            if isinstance(layer, TrainableLayer):\n",
        "                params.append(layer.get_params())\n",
        "        return params\n"
      ],
      "metadata": {
        "id": "ooQoQRAuMpqv"
      },
      "execution_count": 85,
      "outputs": []
    },
    {
      "cell_type": "code",
      "source": [
        "import tensorflow as tf\n",
        "from tensorflow.keras.layers import Conv2D, Flatten, Dense, ReLU, Softmax\n",
        "from tensorflow.keras.losses import CategoricalCrossentropy\n",
        "from tensorflow.keras.optimizers import SGD\n",
        "import matplotlib.pyplot as plt\n",
        "import numpy as np\n",
        "\n",
        "\n",
        "class Model:\n",
        "    def __init__(self, layers):\n",
        "        self.layers = layers\n",
        "\n",
        "    def forward(self, inputs):\n",
        "        for layer in self.layers:\n",
        "            inputs = layer.forward(inputs)\n",
        "        return inputs\n",
        "\n",
        "    def backward(self, grads):\n",
        "        for layer in reversed(self.layers):\n",
        "            grads = layer.backward(grads)\n",
        "        return grads\n",
        "\n",
        "\n",
        "class Conv2DLayer:\n",
        "    def __init__(self, filter_shape, num_filters, stride=1, padding='VALID'):\n",
        "        self.filter_shape = filter_shape\n",
        "        self.num_filters = num_filters\n",
        "        self.stride = stride\n",
        "        self.padding = padding\n",
        "        self.filters = np.random.randn(filter_shape[0], filter_shape[1], filter_shape[2], num_filters)\n",
        "\n",
        "    def forward(self, inputs):\n",
        "        self.inputs = inputs\n",
        "        batch_size, input_height, input_width, input_channels = inputs.shape\n",
        "        output_height = int((input_height - self.filter_shape[0]) / self.stride) + 1\n",
        "        output_width = int((input_width - self.filter_shape[1]) / self.stride) + 1\n",
        "        self.outputs = np.zeros((batch_size, output_height, output_width, self.num_filters))\n",
        "        for i in range(output_height):\n",
        "            for j in range(output_width):\n",
        "                receptive_field = inputs[:, i * self.stride:i * self.stride + self.filter_shape[0],\n",
        "                                          j * self.stride:j * self.stride + self.filter_shape[1], :]\n",
        "                for k in range(self.num_filters):\n",
        "                    self.outputs[:, i, j, k] = np.sum(receptive_field * self.filters[:, :, :, k], axis=(1, 2, 3))\n",
        "        return self.outputs\n",
        "\n",
        "    def backward(self, grads):\n",
        "        batch_size, input_height, input_width, input_channels = self.inputs.shape\n",
        "        output_height, output_width, output_channels = grads.shape\n",
        "        delta = np.zeros_like(self.inputs)\n",
        "        delta_filters = np.zeros_like(self.filters)\n",
        "        for i in range(output_height):\n",
        "            for j in range(output_width):\n",
        "                receptive_field = self.inputs[:, i * self.stride:i * self.stride + self.filter_shape[0],\n",
        "                                          j * self.stride:j * self.stride + self.filter_shape[1], :]\n",
        "                for k in range(output_channels):\n",
        "                    delta[:, i * self.stride:i * self.stride + self.filter_shape[0],\n",
        "                          j * self.stride:j * self.stride + self.filter_shape[1], :] += (\n",
        "                            grads[:, i, j, k] * self.filters[:, :, :, k][None, :, :, :])\n",
        "                    delta_filters[:, :, :, k] += np.sum(\n",
        "                        receptive_field * grads[:, i, j, k][:, None, None, None], axis=0)\n",
        "        self.filters -= delta_filters * 0.01\n",
        "        return delta\n",
        "\n",
        "\n",
        "class ReLU:\n",
        "    def forward(self, inputs):\n",
        "        self.inputs = inputs\n",
        "        return np.maximum(0, inputs)\n",
        "\n",
        "    def backward(self, grads):\n",
        "        grads[self.inputs <= 0] = 0\n",
        "        return grads\n",
        "\n",
        "\n",
        "\n"
      ],
      "metadata": {
        "id": "gqFgG3ZFTAyR"
      },
      "execution_count": 86,
      "outputs": []
    },
    {
      "cell_type": "code",
      "source": [
        "class Dense:\n",
        "    def __init__(self, input_size, output_size):\n",
        "        self.weights = np.random.randn(input_size, output_size)\n",
        "        self.bias = np.zeros(output_size)\n",
        "\n",
        "    def forward(self, inputs):\n",
        "        # Compute the output of the dense layer\n",
        "        outputs = np.dot(inputs, self.weights) + self.bias\n",
        "        return outputs\n"
      ],
      "metadata": {
        "id": "g-m54LV2TNSn"
      },
      "execution_count": 87,
      "outputs": []
    },
    {
      "cell_type": "code",
      "source": [
        "def train(model, train_dataset, num_epochs, learning_rate):\n",
        "    # Define loss function and optimizer\n",
        "    loss_fn = CategoricalCrossentropy()\n",
        "    optimizer = SGD(learning_rate=learning_rate)\n",
        "\n",
        "    # Create empty lists to store loss and filter history\n",
        "    loss_history = []\n",
        "    filter_history = []\n",
        "\n",
        "    for epoch in range(num_epochs):\n",
        "        epoch_loss = 0.0\n",
        "        num_batches = 0\n",
        "        for images, labels in train_dataset:\n",
        "            with tf.GradientTape() as tape:\n",
        "                # Forward pass\n",
        "                logits = model(images)\n",
        "\n",
        "                # Compute loss\n",
        "                loss_value = loss_fn(labels, logits)\n",
        "\n",
        "            # Backward pass\n",
        "            gradients = tape.gradient(loss_value, model.trainable_variables)\n",
        "            optimizer.apply_gradients(zip(gradients, model.trainable_variables))\n",
        "\n",
        "            epoch_loss += loss_value.numpy()\n",
        "            num_batches += 1\n",
        "\n",
        "        avg_loss = epoch_loss / num_batches\n",
        "        loss_history.append(avg_loss)\n",
        "\n",
        "        # Record filter weights every epoch\n",
        "        filter_history.append(model.conv1.get_weights()[0])\n",
        "\n",
        "        print(\"Epoch {}: loss = {}\".format(epoch+1, avg_loss))\n",
        "\n",
        "    return loss_history, filter_history\n",
        "\n"
      ],
      "metadata": {
        "id": "37H3DQvgYXvd"
      },
      "execution_count": 88,
      "outputs": []
    },
    {
      "cell_type": "code",
      "source": [
        "@tf.function\n",
        "def train_step(model, images, labels, loss_fn, optimizer):\n",
        "    with tf.GradientTape() as tape:\n",
        "        # Make a prediction on all the batch\n",
        "        logits = model(images, training=True)\n",
        "\n",
        "        # Remove the extra dimension from labels\n",
        "        labels = tf.squeeze(labels)\n",
        "\n",
        "        # Compute loss\n",
        "        loss = loss_fn(labels, logits)\n",
        "\n",
        "    # Compute gradients\n",
        "    gradients = tape.gradient(loss, model.trainable_variables)\n",
        "\n",
        "    # Update weights\n",
        "    optimizer.apply_gradients(zip(gradients, model.trainable_variables))\n",
        "\n",
        "    # Compute the accuracy\n",
        "    accuracy = tf.reduce_mean(tf.cast(tf.equal(tf.argmax(logits, axis=1), tf.argmax(labels, axis=1)), tf.float32))\n",
        "\n",
        "    return loss, accuracy\n"
      ],
      "metadata": {
        "id": "TpHyNjqCnuxz"
      },
      "execution_count": 94,
      "outputs": []
    },
    {
      "cell_type": "code",
      "source": [
        "import tensorflow as tf\n",
        "from tensorflow import keras\n",
        "import matplotlib.pyplot as plt\n",
        "\n",
        "# Define the model\n",
        "model = keras.Sequential([\n",
        "    keras.layers.Flatten(input_shape=(28, 28)),\n",
        "    keras.layers.Dense(128, activation='relu'),\n",
        "    keras.layers.Dense(10)\n",
        "])\n",
        "\n",
        "# Define the optimizer and loss function\n",
        "optimizer = keras.optimizers.SGD(learning_rate=0.01)\n",
        "loss_fn = keras.losses.SparseCategoricalCrossentropy(from_logits=True)\n",
        "\n",
        "# Define the training step\n",
        "@tf.function\n",
        "def train_step(images, labels):\n",
        "    with tf.GradientTape() as tape:\n",
        "        logits = model(images, training=True)\n",
        "        loss = loss_fn(labels, logits)\n",
        "    gradients = tape.gradient(loss, model.trainable_variables)\n",
        "    optimizer.apply_gradients(zip(gradients, model.trainable_variables))\n",
        "    return loss\n",
        "\n",
        "# Define the training loop\n",
        "def train(model, dataset, num_epochs, learning_rate):\n",
        "    loss_history = []\n",
        "    for epoch in range(num_epochs):\n",
        "        epoch_loss = 0.0\n",
        "        for step, (images, labels) in enumerate(dataset):\n",
        "            loss = train_step(images, labels)\n",
        "            epoch_loss += loss\n",
        "        loss_history.append(epoch_loss/(step+1))\n",
        "        print('Epoch {}: Loss = {}'.format(epoch+1, loss_history[-1]))\n",
        "    return loss_history\n",
        "\n",
        "# Load the fashion MNIST dataset\n",
        "(x_train, y_train), (x_test, y_test) = keras.datasets.fashion_mnist.load_data()\n",
        "\n",
        "# Normalize the images\n",
        "x_train = x_train.astype('float32') / 255.0\n",
        "x_test = x_test.astype('float32') / 255.0\n",
        "\n",
        "# Create the train dataset\n",
        "train_dataset = tf.data.Dataset.from_tensor_slices((x_train, y_train))\n",
        "train_dataset = train_dataset.shuffle(buffer_size=1024).batch(32)\n",
        "\n",
        "# Train the model for 20 epochs\n",
        "loss_history = train(model, train_dataset, num_epochs=20, learning_rate=0.01)\n",
        "\n",
        "# Plot the training loss curve\n",
        "plt.plot(loss_history)\n",
        "plt.title('Training Loss')\n",
        "plt.xlabel('Epoch')\n",
        "plt.ylabel('Loss')\n",
        "plt.show()\n"
      ],
      "metadata": {
        "colab": {
          "base_uri": "https://localhost:8080/",
          "height": 795
        },
        "id": "4yVUrK-mmdXM",
        "outputId": "f16b14a3-90b8-4daf-a3af-9dfaa4ab67af"
      },
      "execution_count": 96,
      "outputs": [
        {
          "output_type": "stream",
          "name": "stdout",
          "text": [
            "Downloading data from https://storage.googleapis.com/tensorflow/tf-keras-datasets/train-labels-idx1-ubyte.gz\n",
            "29515/29515 [==============================] - 0s 0us/step\n",
            "Downloading data from https://storage.googleapis.com/tensorflow/tf-keras-datasets/train-images-idx3-ubyte.gz\n",
            "26421880/26421880 [==============================] - 1s 0us/step\n",
            "Downloading data from https://storage.googleapis.com/tensorflow/tf-keras-datasets/t10k-labels-idx1-ubyte.gz\n",
            "5148/5148 [==============================] - 0s 0us/step\n",
            "Downloading data from https://storage.googleapis.com/tensorflow/tf-keras-datasets/t10k-images-idx3-ubyte.gz\n",
            "4422102/4422102 [==============================] - 0s 0us/step\n",
            "Epoch 1: Loss = 0.7512474060058594\n",
            "Epoch 2: Loss = 0.5142683982849121\n",
            "Epoch 3: Loss = 0.46832725405693054\n",
            "Epoch 4: Loss = 0.44407033920288086\n",
            "Epoch 5: Loss = 0.4256187081336975\n",
            "Epoch 6: Loss = 0.41127291321754456\n",
            "Epoch 7: Loss = 0.3990212678909302\n",
            "Epoch 8: Loss = 0.3894798755645752\n",
            "Epoch 9: Loss = 0.3803196847438812\n",
            "Epoch 10: Loss = 0.3724634349346161\n",
            "Epoch 11: Loss = 0.3650200068950653\n",
            "Epoch 12: Loss = 0.3586006760597229\n",
            "Epoch 13: Loss = 0.35259443521499634\n",
            "Epoch 14: Loss = 0.3467981815338135\n",
            "Epoch 15: Loss = 0.341774582862854\n",
            "Epoch 16: Loss = 0.3372781276702881\n",
            "Epoch 17: Loss = 0.33214911818504333\n",
            "Epoch 18: Loss = 0.3275904357433319\n",
            "Epoch 19: Loss = 0.3234802484512329\n",
            "Epoch 20: Loss = 0.3194150924682617\n"
          ]
        },
        {
          "output_type": "display_data",
          "data": {
            "text/plain": [
              "<Figure size 432x288 with 1 Axes>"
            ],
            "image/png": "[encoded data removed]"
          },
          "metadata": {
            "needs_background": "light"
          }
        }
      ]
    },
    {
      "cell_type": "code",
      "source": [
        "# Plot the filter bank weight distribution for the second convolutional layer\n",
        "plt.figure(figsize=(10, 6))\n",
        "for epoch, filters in enumerate(filter_history):\n",
        "    plt.hist(filters[:, :, :, 0].flatten(), bins=50, alpha=0.5, label=f\"Epoch {epoch+1}\")\n",
        "plt.legend()\n",
        "plt.xlabel(\"Filter Weight\")\n",
        "plt.ylabel(\"Frequency\")\n",
        "plt.title(\"Conv2 Filter Bank Weight Distribution\")\n",
        "plt.show()"
      ],
      "metadata": {
        "colab": {
          "base_uri": "https://localhost:8080/",
          "height": 404
        },
        "id": "PopdA8ZdQL0R",
        "outputId": "0d8e49d2-0225-4ccb-a7e3-112f647cce47"
      },
      "execution_count": 128,
      "outputs": [
        {
          "output_type": "display_data",
          "data": {
            "text/plain": [
              "<Figure size 720x432 with 1 Axes>"
            ],
            "image/png": "[encoded data removed]"
          },
          "metadata": {
            "needs_background": "light"
          }
        }
      ]
    },
    {
      "cell_type": "markdown",
      "source": [
        "# trial"
      ],
      "metadata": {
        "id": "e3v14Ah8QQfQ"
      }
    },
    {
      "cell_type": "code",
      "source": [
        "def plot_filters(filter_history):\n",
        "    fig, ax = plt.subplots(nrows=4, ncols=4, figsize=(12, 12))\n",
        "    fig.subplots_adjust(hspace=0.4, wspace=0.4)\n",
        "\n",
        "    for i, axi in enumerate(ax.flat):\n",
        "        weights = filter_history[:, :, :, i]\n",
        "        axi.hist(weights.flatten(), bins=20)\n",
        "        axi.set_title(f'Filter {i+1}')\n",
        "\n",
        "    plt.show()\n"
      ],
      "metadata": {
        "id": "5P-VnPc4p-pf"
      },
      "execution_count": 100,
      "outputs": []
    },
    {
      "cell_type": "code",
      "source": [
        "@tf.function\n",
        "def grad(model, images, labels, loss_fn):\n",
        "    with tf.GradientTape() as tape:\n",
        "        logits = model(images, training=True)\n",
        "        loss_value = loss_fn(labels, logits)\n",
        "    return loss_value, tape.gradient(loss_value, model.trainable_variables)\n"
      ],
      "metadata": {
        "id": "nhnMCu5yqg-J"
      },
      "execution_count": 103,
      "outputs": []
    },
    {
      "cell_type": "code",
      "source": [
        "import tensorflow as tf\n",
        "import matplotlib.pyplot as plt\n",
        "import numpy as np\n",
        "\n",
        "# Load the MNIST dataset\n",
        "mnist = tf.keras.datasets.mnist\n",
        "(train_images, train_labels), (test_images, test_labels) = mnist.load_data()\n",
        "\n",
        "# Normalize the images to the range [0, 1]\n",
        "train_images = train_images / 255.0\n",
        "test_images = test_images / 255.0\n",
        "\n",
        "# Add a channel dimension to the images\n",
        "train_images = np.expand_dims(train_images, axis=-1)\n",
        "test_images = np.expand_dims(test_images, axis=-1)\n",
        "\n",
        "# Create the model\n",
        "model = tf.keras.Sequential([\n",
        "    tf.keras.layers.Conv2D(32, (3, 3), activation='relu', input_shape=(28, 28, 1)),\n",
        "    tf.keras.layers.MaxPooling2D((2, 2)),\n",
        "    tf.keras.layers.Conv2D(64, (3, 3), activation='relu'),\n",
        "    tf.keras.layers.MaxPooling2D((2, 2)),\n",
        "    tf.keras.layers.Flatten(),\n",
        "    tf.keras.layers.Dense(10)\n",
        "])\n",
        "\n",
        "# Define the loss function\n",
        "loss_fn = tf.keras.losses.SparseCategoricalCrossentropy(from_logits=True)\n",
        "\n",
        "# Define the optimizer\n",
        "optimizer = tf.keras.optimizers.SGD(learning_rate=0.01)\n",
        "\n",
        "# Define the metrics\n",
        "train_loss = tf.keras.metrics.Mean(name='train_loss')\n",
        "train_accuracy = tf.keras.metrics.SparseCategoricalAccuracy(name='train_accuracy')\n",
        "test_loss = tf.keras.metrics.Mean(name='test_loss')\n",
        "test_accuracy = tf.keras.metrics.SparseCategoricalAccuracy(name='test_accuracy')\n",
        "\n",
        "# Define the training function\n",
        "@tf.function\n",
        "def train_step(images, labels):\n",
        "    with tf.GradientTape() as tape:\n",
        "        # Make a prediction on the input batch\n",
        "        logits = model(images, training=True)\n",
        "        # Compute the loss\n",
        "        loss = loss_fn(labels, logits)\n",
        "    # Compute the gradients\n",
        "    gradients = tape.gradient(loss, model.trainable_variables)\n",
        "    # Update the weights\n",
        "    optimizer.apply_gradients(zip(gradients, model.trainable_variables))\n",
        "    # Update the metrics\n",
        "    train_loss(loss)\n",
        "    train_accuracy(labels, logits)\n",
        "\n",
        "# Define the test function\n",
        "@tf.function\n",
        "def test_step(images, labels):\n",
        "    # Make a prediction on the input batch\n",
        "    logits = model(images, training=False)\n",
        "    # Compute the loss\n",
        "    loss = loss_fn(labels, logits)\n",
        "    # Update the metrics\n",
        "    test_loss(loss)\n",
        "    test_accuracy(labels, logits)\n",
        "\n",
        "# Define the training loop\n",
        "def train(model, train_dataset, num_epochs, learning_rate):\n",
        "    # Initialize the loss and filter history arrays\n",
        "    loss_history = []\n",
        "    filter_history = []\n",
        "    # Loop over epochs\n",
        "    for epoch in range(num_epochs):\n",
        "        # Loop over batches\n",
        "        for images, labels in train_dataset:\n",
        "            # Train the model on the batch\n",
        "            train_step(images, labels)\n",
        "        # Loop over test data\n",
        "        for test_images, test_labels in test_dataset:\n",
        "            # Test the model on the batch\n",
        "            test_step(test_images, test_labels)\n",
        "        # Save the loss and accuracy history\n",
        "        loss_history.append(train_loss.result())\n",
        "        # Print the loss and accuracy\n",
        "        print(f'Epoch {epoch + 1}, ' \n",
        "              f'Loss: {train_loss.result()}, ' \n",
        "              f'Accuracy: {train_accuracy.result() * 100}, ' \n",
        "              f'Test Loss: {test_loss.result()}, ' \n",
        "              f'Test Accuracy: {test_accuracy.result() * 100}')\n",
        "        # Reset the metrics for the next\n",
        "        train_loss.reset_states()\n",
        "        train_accuracy.reset_states()\n",
        "def train_step(model, optimizer, x, y, train_loss, train_accuracy):\n",
        "    with tf.GradientTape() as tape:\n",
        "        logits = model(x, training=True)\n",
        "        loss_value = loss_fn(y, logits)\n",
        "    gradients = tape.gradient(loss_value, model.trainable_variables)\n",
        "    optimizer.apply_gradients(zip(gradients, model.trainable_variables))\n",
        "\n",
        "    train_loss.update_state(loss_value)\n",
        "    train_accuracy.update_state(y, logits)\n",
        "\n",
        "    return loss_value\n",
        "\n"
      ],
      "metadata": {
        "id": "cP9oQH6OrlQ5"
      },
      "execution_count": 106,
      "outputs": []
    },
    {
      "cell_type": "code",
      "source": [
        "# Plot the filter bank weight distribution for the second convolutional layer\n",
        "plt.figure(figsize=(10, 6))\n",
        "for epoch, filters in enumerate(filter_history):\n",
        "    plt.hist(filters[:, :, :, 0].flatten(), bins=50, alpha=0.5, label=f\"Epoch {epoch+1}\")\n",
        "plt.legend()\n",
        "plt.xlabel(\"Filter Weight\")\n",
        "plt.ylabel(\"Frequency\")\n",
        "plt.title(\"Conv2 Filter Bank Weight Distribution\")\n",
        "plt.show()"
      ],
      "metadata": {
        "colab": {
          "base_uri": "https://localhost:8080/",
          "height": 404
        },
        "id": "MzOmi9WhObbP",
        "outputId": "12e0a5f0-4e4d-4baa-dba8-99982a3675d8"
      },
      "execution_count": 126,
      "outputs": [
        {
          "output_type": "display_data",
          "data": {
            "text/plain": [
              "<Figure size 720x432 with 1 Axes>"
            ],
            "image/png": "[encoded data removed]"
          },
          "metadata": {
            "needs_background": "light"
          }
        }
      ]
    }
  ]
}